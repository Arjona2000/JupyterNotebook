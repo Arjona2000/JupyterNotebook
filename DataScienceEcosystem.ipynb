{
 "cells": [
  {
   "cell_type": "markdown",
   "id": "b8f420cc-3eec-4291-8d87-640659233c40",
   "metadata": {},
   "source": [
    "# Data Science Tools and Ecosystem"
   ]
  },
  {
   "cell_type": "markdown",
   "id": "c4f47b72-6188-4f35-8a63-248417ae8420",
   "metadata": {},
   "source": [
    "In this notebook, Data Science Tools and Ecosystem are summarized."
   ]
  },
  {
   "cell_type": "markdown",
   "id": "ff7dd3e1-5095-4f22-b99b-d883512d355f",
   "metadata": {},
   "source": [
    "__Objectives:__\n",
    "- List popular languages for Data Science\n",
    "- List commonly used libraries for Data Science\n",
    "- Table of Data Science Tools\n",
    "- Examples of Arithmetic Expressions in Python"
   ]
  },
  {
   "cell_type": "markdown",
   "id": "c715964c-7082-438a-8f77-a8e43eb6dee8",
   "metadata": {},
   "source": [
    "Some of the popular languages that Data Scientists use are:\n",
    "1. Python\n",
    "2. R\n",
    "3. Java\n",
    "4. Julia"
   ]
  },
  {
   "cell_type": "markdown",
   "id": "bdf7be86-9a57-436f-a1c5-a82c1b602be0",
   "metadata": {},
   "source": [
    "Some of the commonly used libraries used by Data Scientists include:\n",
    "1. Pandas\n",
    "2. NumPy\n",
    "3. Matplotlib"
   ]
  },
  {
   "cell_type": "markdown",
   "id": "b3dad95d-3083-4a59-adf8-25d33d6ab76e",
   "metadata": {},
   "source": [
    "| Data Science Tools |\n",
    "| :----------------: |\n",
    "|       Hadoop       |\n",
    "|       Spark        |\n",
    "|      TensorFlow    |"
   ]
  },
  {
   "cell_type": "markdown",
   "id": "02a10a27-8766-4734-bf68-766441877214",
   "metadata": {},
   "source": [
    "### Below are a few examples of evaluating arithmetic expressions in Python"
   ]
  },
  {
   "cell_type": "code",
   "execution_count": 1,
   "id": "a2caabf7-35ad-42eb-bf9f-98788240e27e",
   "metadata": {},
   "outputs": [
    {
     "data": {
      "text/plain": [
       "17"
      ]
     },
     "execution_count": 1,
     "metadata": {},
     "output_type": "execute_result"
    }
   ],
   "source": [
    "# This is a simple arithmetic expression to multiply then add integers\n",
    "(3*4)+5"
   ]
  },
  {
   "cell_type": "code",
   "execution_count": 2,
   "id": "fc328773-06c2-4221-b9dc-101e361b34a6",
   "metadata": {},
   "outputs": [
    {
     "data": {
      "text/plain": [
       "3.3333333333333335"
      ]
     },
     "execution_count": 2,
     "metadata": {},
     "output_type": "execute_result"
    }
   ],
   "source": [
    "# This will convert 200 minutes to hours by dividing by 60\n",
    "200/60"
   ]
  },
  {
   "cell_type": "markdown",
   "id": "1b48cb27-21ec-4ddf-870d-637168dd353c",
   "metadata": {},
   "source": [
    "## Author\n",
    "Alejandro Arjona Molina"
   ]
  }
 ],
 "metadata": {
  "kernelspec": {
   "display_name": "Python 3 (ipykernel)",
   "language": "python",
   "name": "python3"
  },
  "language_info": {
   "codemirror_mode": {
    "name": "ipython",
    "version": 3
   },
   "file_extension": ".py",
   "mimetype": "text/x-python",
   "name": "python",
   "nbconvert_exporter": "python",
   "pygments_lexer": "ipython3",
   "version": "3.11.9"
  }
 },
 "nbformat": 4,
 "nbformat_minor": 5
}
